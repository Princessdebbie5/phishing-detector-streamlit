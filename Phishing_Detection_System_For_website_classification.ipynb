{
  "nbformat": 4,
  "nbformat_minor": 0,
  "metadata": {
    "colab": {
      "provenance": []
    },
    "kernelspec": {
      "name": "python3",
      "display_name": "Python 3"
    },
    "language_info": {
      "name": "python"
    }
  },
  "cells": [
    {
      "cell_type": "code",
      "execution_count": 2,
      "metadata": {
        "id": "cFsXEdi5Ih3I"
      },
      "outputs": [],
      "source": [
        "# Importing necessary libraries\n",
        "import pandas as pd\n",
        "from sklearn.feature_extraction.text import CountVectorizer\n",
        "from sklearn.model_selection import train_test_split\n",
        "from sklearn.ensemble import RandomForestClassifier\n",
        "from sklearn.metrics import accuracy_score, precision_score, recall_score, f1_score, roc_auc_score, confusion_matrix, classification_report\n",
        "import seaborn as sns\n",
        "import matplotlib.pyplot as plt\n",
        "import gdown"
      ]
    },
    {
      "cell_type": "code",
      "source": [
        "import kagglehub\n",
        "\n",
        "# Download latest version\n",
        "path = kagglehub.dataset_download(\"taruntiwarihp/phishing-site-urls\")\n",
        "\n",
        "print(\"Path to dataset files:\", path)"
      ],
      "metadata": {
        "colab": {
          "base_uri": "https://localhost:8080/"
        },
        "id": "I9ZDZRTdIvgk",
        "outputId": "c68292bc-2c70-4dd6-ec42-d28dd6815ed3"
      },
      "execution_count": 3,
      "outputs": [
        {
          "output_type": "stream",
          "name": "stdout",
          "text": [
            "Downloading from https://www.kaggle.com/api/v1/datasets/download/taruntiwarihp/phishing-site-urls?dataset_version_number=1...\n"
          ]
        },
        {
          "output_type": "stream",
          "name": "stderr",
          "text": [
            "100%|██████████| 9.03M/9.03M [00:00<00:00, 157MB/s]"
          ]
        },
        {
          "output_type": "stream",
          "name": "stdout",
          "text": [
            "Extracting files...\n"
          ]
        },
        {
          "output_type": "stream",
          "name": "stderr",
          "text": [
            "\n"
          ]
        },
        {
          "output_type": "stream",
          "name": "stdout",
          "text": [
            "Path to dataset files: /root/.cache/kagglehub/datasets/taruntiwarihp/phishing-site-urls/versions/1\n"
          ]
        }
      ]
    },
    {
      "cell_type": "code",
      "source": [
        "import os\n",
        "\n",
        "# List all files in the dataset folder\n",
        "dataset_path = path  # from your previous print statement\n",
        "print(os.listdir(dataset_path))"
      ],
      "metadata": {
        "colab": {
          "base_uri": "https://localhost:8080/"
        },
        "id": "Yb70MF_zI2vN",
        "outputId": "b47e1261-7a1b-410d-a5ca-790c3a7fb80a"
      },
      "execution_count": 4,
      "outputs": [
        {
          "output_type": "stream",
          "name": "stdout",
          "text": [
            "['phishing_site_urls.csv']\n"
          ]
        }
      ]
    },
    {
      "cell_type": "code",
      "source": [
        "df = pd.read_csv(os.path.join(dataset_path, 'phishing_site_urls.csv'))\n",
        "\n",
        "# Preview the data\n",
        "df.head()"
      ],
      "metadata": {
        "colab": {
          "base_uri": "https://localhost:8080/",
          "height": 206
        },
        "id": "zhXJvzGZQ-zG",
        "outputId": "ec930bd3-b101-4057-ab35-66c2793e681a"
      },
      "execution_count": 5,
      "outputs": [
        {
          "output_type": "execute_result",
          "data": {
            "text/plain": [
              "                                                 URL Label\n",
              "0  nobell.it/70ffb52d079109dca5664cce6f317373782/...   bad\n",
              "1  www.dghjdgf.com/paypal.co.uk/cycgi-bin/webscrc...   bad\n",
              "2  serviciosbys.com/paypal.cgi.bin.get-into.herf....   bad\n",
              "3  mail.printakid.com/www.online.americanexpress....   bad\n",
              "4  thewhiskeydregs.com/wp-content/themes/widescre...   bad"
            ],
            "text/html": [
              "\n",
              "  <div id=\"df-391a9e47-1657-4caa-845f-eb95f370f735\" class=\"colab-df-container\">\n",
              "    <div>\n",
              "<style scoped>\n",
              "    .dataframe tbody tr th:only-of-type {\n",
              "        vertical-align: middle;\n",
              "    }\n",
              "\n",
              "    .dataframe tbody tr th {\n",
              "        vertical-align: top;\n",
              "    }\n",
              "\n",
              "    .dataframe thead th {\n",
              "        text-align: right;\n",
              "    }\n",
              "</style>\n",
              "<table border=\"1\" class=\"dataframe\">\n",
              "  <thead>\n",
              "    <tr style=\"text-align: right;\">\n",
              "      <th></th>\n",
              "      <th>URL</th>\n",
              "      <th>Label</th>\n",
              "    </tr>\n",
              "  </thead>\n",
              "  <tbody>\n",
              "    <tr>\n",
              "      <th>0</th>\n",
              "      <td>nobell.it/70ffb52d079109dca5664cce6f317373782/...</td>\n",
              "      <td>bad</td>\n",
              "    </tr>\n",
              "    <tr>\n",
              "      <th>1</th>\n",
              "      <td>www.dghjdgf.com/paypal.co.uk/cycgi-bin/webscrc...</td>\n",
              "      <td>bad</td>\n",
              "    </tr>\n",
              "    <tr>\n",
              "      <th>2</th>\n",
              "      <td>serviciosbys.com/paypal.cgi.bin.get-into.herf....</td>\n",
              "      <td>bad</td>\n",
              "    </tr>\n",
              "    <tr>\n",
              "      <th>3</th>\n",
              "      <td>mail.printakid.com/www.online.americanexpress....</td>\n",
              "      <td>bad</td>\n",
              "    </tr>\n",
              "    <tr>\n",
              "      <th>4</th>\n",
              "      <td>thewhiskeydregs.com/wp-content/themes/widescre...</td>\n",
              "      <td>bad</td>\n",
              "    </tr>\n",
              "  </tbody>\n",
              "</table>\n",
              "</div>\n",
              "    <div class=\"colab-df-buttons\">\n",
              "\n",
              "  <div class=\"colab-df-container\">\n",
              "    <button class=\"colab-df-convert\" onclick=\"convertToInteractive('df-391a9e47-1657-4caa-845f-eb95f370f735')\"\n",
              "            title=\"Convert this dataframe to an interactive table.\"\n",
              "            style=\"display:none;\">\n",
              "\n",
              "  <svg xmlns=\"http://www.w3.org/2000/svg\" height=\"24px\" viewBox=\"0 -960 960 960\">\n",
              "    <path d=\"M120-120v-720h720v720H120Zm60-500h600v-160H180v160Zm220 220h160v-160H400v160Zm0 220h160v-160H400v160ZM180-400h160v-160H180v160Zm440 0h160v-160H620v160ZM180-180h160v-160H180v160Zm440 0h160v-160H620v160Z\"/>\n",
              "  </svg>\n",
              "    </button>\n",
              "\n",
              "  <style>\n",
              "    .colab-df-container {\n",
              "      display:flex;\n",
              "      gap: 12px;\n",
              "    }\n",
              "\n",
              "    .colab-df-convert {\n",
              "      background-color: #E8F0FE;\n",
              "      border: none;\n",
              "      border-radius: 50%;\n",
              "      cursor: pointer;\n",
              "      display: none;\n",
              "      fill: #1967D2;\n",
              "      height: 32px;\n",
              "      padding: 0 0 0 0;\n",
              "      width: 32px;\n",
              "    }\n",
              "\n",
              "    .colab-df-convert:hover {\n",
              "      background-color: #E2EBFA;\n",
              "      box-shadow: 0px 1px 2px rgba(60, 64, 67, 0.3), 0px 1px 3px 1px rgba(60, 64, 67, 0.15);\n",
              "      fill: #174EA6;\n",
              "    }\n",
              "\n",
              "    .colab-df-buttons div {\n",
              "      margin-bottom: 4px;\n",
              "    }\n",
              "\n",
              "    [theme=dark] .colab-df-convert {\n",
              "      background-color: #3B4455;\n",
              "      fill: #D2E3FC;\n",
              "    }\n",
              "\n",
              "    [theme=dark] .colab-df-convert:hover {\n",
              "      background-color: #434B5C;\n",
              "      box-shadow: 0px 1px 3px 1px rgba(0, 0, 0, 0.15);\n",
              "      filter: drop-shadow(0px 1px 2px rgba(0, 0, 0, 0.3));\n",
              "      fill: #FFFFFF;\n",
              "    }\n",
              "  </style>\n",
              "\n",
              "    <script>\n",
              "      const buttonEl =\n",
              "        document.querySelector('#df-391a9e47-1657-4caa-845f-eb95f370f735 button.colab-df-convert');\n",
              "      buttonEl.style.display =\n",
              "        google.colab.kernel.accessAllowed ? 'block' : 'none';\n",
              "\n",
              "      async function convertToInteractive(key) {\n",
              "        const element = document.querySelector('#df-391a9e47-1657-4caa-845f-eb95f370f735');\n",
              "        const dataTable =\n",
              "          await google.colab.kernel.invokeFunction('convertToInteractive',\n",
              "                                                    [key], {});\n",
              "        if (!dataTable) return;\n",
              "\n",
              "        const docLinkHtml = 'Like what you see? Visit the ' +\n",
              "          '<a target=\"_blank\" href=https://colab.research.google.com/notebooks/data_table.ipynb>data table notebook</a>'\n",
              "          + ' to learn more about interactive tables.';\n",
              "        element.innerHTML = '';\n",
              "        dataTable['output_type'] = 'display_data';\n",
              "        await google.colab.output.renderOutput(dataTable, element);\n",
              "        const docLink = document.createElement('div');\n",
              "        docLink.innerHTML = docLinkHtml;\n",
              "        element.appendChild(docLink);\n",
              "      }\n",
              "    </script>\n",
              "  </div>\n",
              "\n",
              "\n",
              "    <div id=\"df-541dd97d-cfa4-4649-9cc5-2e8575c71c98\">\n",
              "      <button class=\"colab-df-quickchart\" onclick=\"quickchart('df-541dd97d-cfa4-4649-9cc5-2e8575c71c98')\"\n",
              "                title=\"Suggest charts\"\n",
              "                style=\"display:none;\">\n",
              "\n",
              "<svg xmlns=\"http://www.w3.org/2000/svg\" height=\"24px\"viewBox=\"0 0 24 24\"\n",
              "     width=\"24px\">\n",
              "    <g>\n",
              "        <path d=\"M19 3H5c-1.1 0-2 .9-2 2v14c0 1.1.9 2 2 2h14c1.1 0 2-.9 2-2V5c0-1.1-.9-2-2-2zM9 17H7v-7h2v7zm4 0h-2V7h2v10zm4 0h-2v-4h2v4z\"/>\n",
              "    </g>\n",
              "</svg>\n",
              "      </button>\n",
              "\n",
              "<style>\n",
              "  .colab-df-quickchart {\n",
              "      --bg-color: #E8F0FE;\n",
              "      --fill-color: #1967D2;\n",
              "      --hover-bg-color: #E2EBFA;\n",
              "      --hover-fill-color: #174EA6;\n",
              "      --disabled-fill-color: #AAA;\n",
              "      --disabled-bg-color: #DDD;\n",
              "  }\n",
              "\n",
              "  [theme=dark] .colab-df-quickchart {\n",
              "      --bg-color: #3B4455;\n",
              "      --fill-color: #D2E3FC;\n",
              "      --hover-bg-color: #434B5C;\n",
              "      --hover-fill-color: #FFFFFF;\n",
              "      --disabled-bg-color: #3B4455;\n",
              "      --disabled-fill-color: #666;\n",
              "  }\n",
              "\n",
              "  .colab-df-quickchart {\n",
              "    background-color: var(--bg-color);\n",
              "    border: none;\n",
              "    border-radius: 50%;\n",
              "    cursor: pointer;\n",
              "    display: none;\n",
              "    fill: var(--fill-color);\n",
              "    height: 32px;\n",
              "    padding: 0;\n",
              "    width: 32px;\n",
              "  }\n",
              "\n",
              "  .colab-df-quickchart:hover {\n",
              "    background-color: var(--hover-bg-color);\n",
              "    box-shadow: 0 1px 2px rgba(60, 64, 67, 0.3), 0 1px 3px 1px rgba(60, 64, 67, 0.15);\n",
              "    fill: var(--button-hover-fill-color);\n",
              "  }\n",
              "\n",
              "  .colab-df-quickchart-complete:disabled,\n",
              "  .colab-df-quickchart-complete:disabled:hover {\n",
              "    background-color: var(--disabled-bg-color);\n",
              "    fill: var(--disabled-fill-color);\n",
              "    box-shadow: none;\n",
              "  }\n",
              "\n",
              "  .colab-df-spinner {\n",
              "    border: 2px solid var(--fill-color);\n",
              "    border-color: transparent;\n",
              "    border-bottom-color: var(--fill-color);\n",
              "    animation:\n",
              "      spin 1s steps(1) infinite;\n",
              "  }\n",
              "\n",
              "  @keyframes spin {\n",
              "    0% {\n",
              "      border-color: transparent;\n",
              "      border-bottom-color: var(--fill-color);\n",
              "      border-left-color: var(--fill-color);\n",
              "    }\n",
              "    20% {\n",
              "      border-color: transparent;\n",
              "      border-left-color: var(--fill-color);\n",
              "      border-top-color: var(--fill-color);\n",
              "    }\n",
              "    30% {\n",
              "      border-color: transparent;\n",
              "      border-left-color: var(--fill-color);\n",
              "      border-top-color: var(--fill-color);\n",
              "      border-right-color: var(--fill-color);\n",
              "    }\n",
              "    40% {\n",
              "      border-color: transparent;\n",
              "      border-right-color: var(--fill-color);\n",
              "      border-top-color: var(--fill-color);\n",
              "    }\n",
              "    60% {\n",
              "      border-color: transparent;\n",
              "      border-right-color: var(--fill-color);\n",
              "    }\n",
              "    80% {\n",
              "      border-color: transparent;\n",
              "      border-right-color: var(--fill-color);\n",
              "      border-bottom-color: var(--fill-color);\n",
              "    }\n",
              "    90% {\n",
              "      border-color: transparent;\n",
              "      border-bottom-color: var(--fill-color);\n",
              "    }\n",
              "  }\n",
              "</style>\n",
              "\n",
              "      <script>\n",
              "        async function quickchart(key) {\n",
              "          const quickchartButtonEl =\n",
              "            document.querySelector('#' + key + ' button');\n",
              "          quickchartButtonEl.disabled = true;  // To prevent multiple clicks.\n",
              "          quickchartButtonEl.classList.add('colab-df-spinner');\n",
              "          try {\n",
              "            const charts = await google.colab.kernel.invokeFunction(\n",
              "                'suggestCharts', [key], {});\n",
              "          } catch (error) {\n",
              "            console.error('Error during call to suggestCharts:', error);\n",
              "          }\n",
              "          quickchartButtonEl.classList.remove('colab-df-spinner');\n",
              "          quickchartButtonEl.classList.add('colab-df-quickchart-complete');\n",
              "        }\n",
              "        (() => {\n",
              "          let quickchartButtonEl =\n",
              "            document.querySelector('#df-541dd97d-cfa4-4649-9cc5-2e8575c71c98 button');\n",
              "          quickchartButtonEl.style.display =\n",
              "            google.colab.kernel.accessAllowed ? 'block' : 'none';\n",
              "        })();\n",
              "      </script>\n",
              "    </div>\n",
              "\n",
              "    </div>\n",
              "  </div>\n"
            ],
            "application/vnd.google.colaboratory.intrinsic+json": {
              "type": "dataframe",
              "variable_name": "df"
            }
          },
          "metadata": {},
          "execution_count": 5
        }
      ]
    },
    {
      "cell_type": "code",
      "source": [
        "df.shape"
      ],
      "metadata": {
        "colab": {
          "base_uri": "https://localhost:8080/"
        },
        "id": "_DUeamG1RmhU",
        "outputId": "fd0b404b-9541-4ee1-af86-7e3298eb48cd"
      },
      "execution_count": 6,
      "outputs": [
        {
          "output_type": "execute_result",
          "data": {
            "text/plain": [
              "(549346, 2)"
            ]
          },
          "metadata": {},
          "execution_count": 6
        }
      ]
    },
    {
      "cell_type": "code",
      "source": [
        "df.info()"
      ],
      "metadata": {
        "colab": {
          "base_uri": "https://localhost:8080/"
        },
        "id": "SS9s2RLER597",
        "outputId": "c1352e69-7b6b-4f22-a99d-227ba5dbafdb"
      },
      "execution_count": 7,
      "outputs": [
        {
          "output_type": "stream",
          "name": "stdout",
          "text": [
            "<class 'pandas.core.frame.DataFrame'>\n",
            "RangeIndex: 549346 entries, 0 to 549345\n",
            "Data columns (total 2 columns):\n",
            " #   Column  Non-Null Count   Dtype \n",
            "---  ------  --------------   ----- \n",
            " 0   URL     549346 non-null  object\n",
            " 1   Label   549346 non-null  object\n",
            "dtypes: object(2)\n",
            "memory usage: 8.4+ MB\n"
          ]
        }
      ]
    },
    {
      "cell_type": "code",
      "source": [
        "df.isnull().sum()"
      ],
      "metadata": {
        "colab": {
          "base_uri": "https://localhost:8080/",
          "height": 147
        },
        "id": "mIuZrP-vSLvd",
        "outputId": "88730e25-2d22-4c2d-8bd5-7acb9a6e658d"
      },
      "execution_count": 8,
      "outputs": [
        {
          "output_type": "execute_result",
          "data": {
            "text/plain": [
              "URL      0\n",
              "Label    0\n",
              "dtype: int64"
            ],
            "text/html": [
              "<div>\n",
              "<style scoped>\n",
              "    .dataframe tbody tr th:only-of-type {\n",
              "        vertical-align: middle;\n",
              "    }\n",
              "\n",
              "    .dataframe tbody tr th {\n",
              "        vertical-align: top;\n",
              "    }\n",
              "\n",
              "    .dataframe thead th {\n",
              "        text-align: right;\n",
              "    }\n",
              "</style>\n",
              "<table border=\"1\" class=\"dataframe\">\n",
              "  <thead>\n",
              "    <tr style=\"text-align: right;\">\n",
              "      <th></th>\n",
              "      <th>0</th>\n",
              "    </tr>\n",
              "  </thead>\n",
              "  <tbody>\n",
              "    <tr>\n",
              "      <th>URL</th>\n",
              "      <td>0</td>\n",
              "    </tr>\n",
              "    <tr>\n",
              "      <th>Label</th>\n",
              "      <td>0</td>\n",
              "    </tr>\n",
              "  </tbody>\n",
              "</table>\n",
              "</div><br><label><b>dtype:</b> int64</label>"
            ]
          },
          "metadata": {},
          "execution_count": 8
        }
      ]
    },
    {
      "cell_type": "code",
      "source": [
        "df.Label.value_counts()"
      ],
      "metadata": {
        "colab": {
          "base_uri": "https://localhost:8080/",
          "height": 178
        },
        "id": "F3J4XIBCSQhO",
        "outputId": "aedb5b5f-bd20-40f1-ee1e-50a1d1e9f846"
      },
      "execution_count": 9,
      "outputs": [
        {
          "output_type": "execute_result",
          "data": {
            "text/plain": [
              "Label\n",
              "good    392924\n",
              "bad     156422\n",
              "Name: count, dtype: int64"
            ],
            "text/html": [
              "<div>\n",
              "<style scoped>\n",
              "    .dataframe tbody tr th:only-of-type {\n",
              "        vertical-align: middle;\n",
              "    }\n",
              "\n",
              "    .dataframe tbody tr th {\n",
              "        vertical-align: top;\n",
              "    }\n",
              "\n",
              "    .dataframe thead th {\n",
              "        text-align: right;\n",
              "    }\n",
              "</style>\n",
              "<table border=\"1\" class=\"dataframe\">\n",
              "  <thead>\n",
              "    <tr style=\"text-align: right;\">\n",
              "      <th></th>\n",
              "      <th>count</th>\n",
              "    </tr>\n",
              "    <tr>\n",
              "      <th>Label</th>\n",
              "      <th></th>\n",
              "    </tr>\n",
              "  </thead>\n",
              "  <tbody>\n",
              "    <tr>\n",
              "      <th>good</th>\n",
              "      <td>392924</td>\n",
              "    </tr>\n",
              "    <tr>\n",
              "      <th>bad</th>\n",
              "      <td>156422</td>\n",
              "    </tr>\n",
              "  </tbody>\n",
              "</table>\n",
              "</div><br><label><b>dtype:</b> int64</label>"
            ]
          },
          "metadata": {},
          "execution_count": 9
        }
      ]
    },
    {
      "cell_type": "code",
      "source": [
        "from nltk.tokenize import RegexpTokenizer\n",
        "tokenizer= RegexpTokenizer(r'[A-Za-z0-9]+')\n",
        "df.URL.apply(lambda x: tokenizer.tokenize(x))\n"
      ],
      "metadata": {
        "colab": {
          "base_uri": "https://localhost:8080/",
          "height": 458
        },
        "id": "iT83NyIldVNw",
        "outputId": "731ec4a2-3b0d-49aa-a5a3-f19126a4e164"
      },
      "execution_count": 10,
      "outputs": [
        {
          "output_type": "execute_result",
          "data": {
            "text/plain": [
              "0         [nobell, it, 70ffb52d079109dca5664cce6f3173737...\n",
              "1         [www, dghjdgf, com, paypal, co, uk, cycgi, bin...\n",
              "2         [serviciosbys, com, paypal, cgi, bin, get, int...\n",
              "3         [mail, printakid, com, www, online, americanex...\n",
              "4         [thewhiskeydregs, com, wp, content, themes, wi...\n",
              "                                ...                        \n",
              "549341                                  [23, 227, 196, 215]\n",
              "549342                                [apple, checker, org]\n",
              "549343                                 [apple, iclods, org]\n",
              "549344                                [apple, uptoday, org]\n",
              "549345                                [apple, search, info]\n",
              "Name: URL, Length: 549346, dtype: object"
            ],
            "text/html": [
              "<div>\n",
              "<style scoped>\n",
              "    .dataframe tbody tr th:only-of-type {\n",
              "        vertical-align: middle;\n",
              "    }\n",
              "\n",
              "    .dataframe tbody tr th {\n",
              "        vertical-align: top;\n",
              "    }\n",
              "\n",
              "    .dataframe thead th {\n",
              "        text-align: right;\n",
              "    }\n",
              "</style>\n",
              "<table border=\"1\" class=\"dataframe\">\n",
              "  <thead>\n",
              "    <tr style=\"text-align: right;\">\n",
              "      <th></th>\n",
              "      <th>URL</th>\n",
              "    </tr>\n",
              "  </thead>\n",
              "  <tbody>\n",
              "    <tr>\n",
              "      <th>0</th>\n",
              "      <td>[nobell, it, 70ffb52d079109dca5664cce6f3173737...</td>\n",
              "    </tr>\n",
              "    <tr>\n",
              "      <th>1</th>\n",
              "      <td>[www, dghjdgf, com, paypal, co, uk, cycgi, bin...</td>\n",
              "    </tr>\n",
              "    <tr>\n",
              "      <th>2</th>\n",
              "      <td>[serviciosbys, com, paypal, cgi, bin, get, int...</td>\n",
              "    </tr>\n",
              "    <tr>\n",
              "      <th>3</th>\n",
              "      <td>[mail, printakid, com, www, online, americanex...</td>\n",
              "    </tr>\n",
              "    <tr>\n",
              "      <th>4</th>\n",
              "      <td>[thewhiskeydregs, com, wp, content, themes, wi...</td>\n",
              "    </tr>\n",
              "    <tr>\n",
              "      <th>...</th>\n",
              "      <td>...</td>\n",
              "    </tr>\n",
              "    <tr>\n",
              "      <th>549341</th>\n",
              "      <td>[23, 227, 196, 215]</td>\n",
              "    </tr>\n",
              "    <tr>\n",
              "      <th>549342</th>\n",
              "      <td>[apple, checker, org]</td>\n",
              "    </tr>\n",
              "    <tr>\n",
              "      <th>549343</th>\n",
              "      <td>[apple, iclods, org]</td>\n",
              "    </tr>\n",
              "    <tr>\n",
              "      <th>549344</th>\n",
              "      <td>[apple, uptoday, org]</td>\n",
              "    </tr>\n",
              "    <tr>\n",
              "      <th>549345</th>\n",
              "      <td>[apple, search, info]</td>\n",
              "    </tr>\n",
              "  </tbody>\n",
              "</table>\n",
              "<p>549346 rows × 1 columns</p>\n",
              "</div><br><label><b>dtype:</b> object</label>"
            ]
          },
          "metadata": {},
          "execution_count": 10
        }
      ]
    },
    {
      "cell_type": "code",
      "source": [
        "# prompt: cleand and preprocess the data\n",
        "\n",
        "import re\n",
        "\n",
        "def remove_unwanted_characters(url):\n",
        "  \"\"\"Removes characters like @,#,$ from the URL.\"\"\"\n",
        "  return re.sub(r'[@#$]', '', url)\n",
        "\n",
        "def to_lowercase(url):\n",
        "  \"\"\"Converts the URL to lowercase.\"\"\"\n",
        "  return url.lower()\n",
        "\n",
        "# Apply the cleaning and preprocessing steps\n",
        "df['cleaned_url'] = df['URL'].apply(remove_unwanted_characters)\n",
        "df['cleaned_url'] = df['cleaned_url'].apply(to_lowercase)\n",
        "df['cleaned_url_tokens'] = df['cleaned_url'].apply(lambda x: tokenizer.tokenize(x))\n",
        "\n",
        "# Display the cleaned data (optional)\n",
        "print(df[['URL', 'cleaned_url', 'cleaned_url_tokens']].head())"
      ],
      "metadata": {
        "colab": {
          "base_uri": "https://localhost:8080/"
        },
        "id": "5crDrdvt1G9f",
        "outputId": "3c612cad-332d-4678-97c3-a5f79c6f091f"
      },
      "execution_count": 11,
      "outputs": [
        {
          "output_type": "stream",
          "name": "stdout",
          "text": [
            "                                                 URL  \\\n",
            "0  nobell.it/70ffb52d079109dca5664cce6f317373782/...   \n",
            "1  www.dghjdgf.com/paypal.co.uk/cycgi-bin/webscrc...   \n",
            "2  serviciosbys.com/paypal.cgi.bin.get-into.herf....   \n",
            "3  mail.printakid.com/www.online.americanexpress....   \n",
            "4  thewhiskeydregs.com/wp-content/themes/widescre...   \n",
            "\n",
            "                                         cleaned_url  \\\n",
            "0  nobell.it/70ffb52d079109dca5664cce6f317373782/...   \n",
            "1  www.dghjdgf.com/paypal.co.uk/cycgi-bin/webscrc...   \n",
            "2  serviciosbys.com/paypal.cgi.bin.get-into.herf....   \n",
            "3  mail.printakid.com/www.online.americanexpress....   \n",
            "4  thewhiskeydregs.com/wp-content/themes/widescre...   \n",
            "\n",
            "                                  cleaned_url_tokens  \n",
            "0  [nobell, it, 70ffb52d079109dca5664cce6f3173737...  \n",
            "1  [www, dghjdgf, com, paypal, co, uk, cycgi, bin...  \n",
            "2  [serviciosbys, com, paypal, cgi, bin, get, int...  \n",
            "3  [mail, printakid, com, www, online, americanex...  \n",
            "4  [thewhiskeydregs, com, wp, content, themes, wi...  \n"
          ]
        }
      ]
    },
    {
      "cell_type": "code",
      "source": [
        "# prompt: perform feature extraction using count vectorizer\n",
        "\n",
        "# Create a CountVectorizer\n",
        "vectorizer = CountVectorizer()\n",
        "\n",
        "# Fit and transform the 'cleaned_url' column\n",
        "X = vectorizer.fit_transform(df['cleaned_url'])\n",
        "\n",
        "# Display the shape of the resulting feature matrix\n",
        "print(\"Shape of the feature matrix:\", X.shape)\n",
        "\n",
        "# You can also inspect the vocabulary learned by the vectorizer\n",
        "# print(\"Vocabulary:\", vectorizer.get_feature_names_out()[:10]) # print first 10 words"
      ],
      "metadata": {
        "colab": {
          "base_uri": "https://localhost:8080/"
        },
        "id": "k-qrGnMJ1Roh",
        "outputId": "c269d433-2015-4ef7-c4b3-bfb5f231ecf6"
      },
      "execution_count": 12,
      "outputs": [
        {
          "output_type": "stream",
          "name": "stdout",
          "text": [
            "Shape of the feature matrix: (549346, 528881)\n"
          ]
        }
      ]
    },
    {
      "cell_type": "code",
      "source": [
        "\n",
        "\n",
        "import matplotlib.pyplot as plt\n",
        "# Define features (X) and target (y)\n",
        "y = df['Label']\n",
        "\n",
        "# Split the data into training and testing sets\n",
        "# Use a random_state for reproducibility\n",
        "X_train, X_test, y_train, y_test = train_test_split(X, y, test_size=0.2, random_state=42, stratify=y) # Stratify to maintain label distribution\n",
        "\n",
        "print(\"Shape of training features:\", X_train.shape)\n",
        "print(\"Shape of testing features:\", X_test.shape)\n",
        "print(\"Shape of training labels:\", y_train.shape)\n",
        "print(\"Shape of testing labels:\", y_test.shape)\n",
        "\n",
        "\n",
        "\n",
        "\n"
      ],
      "metadata": {
        "colab": {
          "base_uri": "https://localhost:8080/"
        },
        "id": "hfIYg1aj06eZ",
        "outputId": "e921aecc-f478-4c4b-fd89-440bc1bf8733"
      },
      "execution_count": 13,
      "outputs": [
        {
          "output_type": "stream",
          "name": "stdout",
          "text": [
            "Shape of training features: (439476, 528881)\n",
            "Shape of testing features: (109870, 528881)\n",
            "Shape of training labels: (439476,)\n",
            "Shape of testing labels: (109870,)\n"
          ]
        }
      ]
    },
    {
      "cell_type": "code",
      "source": [
        "import matplotlib.pyplot as plt\n",
        "from sklearn.feature_extraction.text import TfidfVectorizer\n",
        "\n",
        "# Take a smaller portion of the dataset\n",
        "df_small = df.sample(frac=0.1, random_state=42) # Use 10% of the data\n",
        "\n",
        "# Define features (X) and target (y) for the smaller dataset\n",
        "X_small = df_small['cleaned_url']\n",
        "y_small = df_small['Label']\n",
        "\n",
        "# Apply CountVectorizer with min_df set to 1000 (tokens that appear in at least 1000 documents)\n",
        "count_vectorizer_small = CountVectorizer(min_df=1000)\n",
        "X_count_small = count_vectorizer_small.fit_transform(X_small)\n",
        "\n",
        "# Apply TfidfVectorizer with min_df set to 1000\n",
        "tfidf_vectorizer_small = TfidfVectorizer(min_df=1000)\n",
        "X_tfidf_small = tfidf_vectorizer_small.fit_transform(X_small)\n",
        "\n",
        "# Split the data for CountVectorizer features\n",
        "X_train_count_small, X_test_count_small, y_train_small, y_test_small = train_test_split(X_count_small, y_small, test_size=0.2, random_state=42, stratify=y_small)\n",
        "\n",
        "# Split the data for TfidfVectorizer features\n",
        "X_train_tfidf_small, X_test_tfidf_small, y_train_small_tfidf, y_test_small_tfidf = train_test_split(X_tfidf_small, y_small, test_size=0.2, random_state=42, stratify=y_small)\n",
        "\n",
        "\n",
        "# --- Random Forest with CountVectorizer features ---\n",
        "print(\"\\n--- Random Forest with CountVectorizer (Small Dataset) ---\")\n",
        "\n",
        "# Create a Random Forest model with 30 estimators\n",
        "rf_count_small = RandomForestClassifier(n_estimators=30, random_state=42, n_jobs=-1)\n",
        "\n",
        "# Train the model\n",
        "rf_count_small.fit(X_train_count_small, y_train_small)\n",
        "\n",
        "# Make predictions\n",
        "y_pred_rf_count_small = rf_count_small.predict(X_test_count_small)\n",
        "y_prob_rf_count_small = rf_count_small.predict_proba(X_test_count_small)[:, 1]\n",
        "\n",
        "# Evaluate the model\n",
        "print(\"Random Forest (CountVectorizer) Performance:\")\n",
        "print(\"Accuracy:\", accuracy_score(y_test_small, y_pred_rf_count_small))\n",
        "print(\"Precision:\", precision_score(y_test_small, y_pred_rf_count_small, pos_label='bad'))\n",
        "print(\"Recall:\", recall_score(y_test_small, y_pred_rf_count_small, pos_label='bad'))\n",
        "print(\"F1 Score:\", f1_score(y_test_small, y_pred_rf_count_small, pos_label='bad'))\n",
        "print(\"ROC AUC Score:\", roc_auc_score(y_test_small, y_prob_rf_count_small))\n",
        "\n",
        "# Confusion Matrix\n",
        "cm_rf_count_small = confusion_matrix(y_test_small, y_pred_rf_count_small)\n",
        "plt.figure(figsize=(8, 6))\n",
        "sns.heatmap(cm_rf_count_small, annot=True, fmt='d', cmap='Blues', xticklabels=['bad', 'good'], yticklabels=['bad', 'good'])\n",
        "plt.xlabel('Predicted Label')\n",
        "plt.ylabel('True Label')\n",
        "plt.title('Random Forest (CountVectorizer) Confusion Matrix (Small Dataset)')\n",
        "plt.show()\n",
        "\n",
        "# Classification Report\n",
        "print(\"\\nClassification Report:\\n\", classification_report(y_test_small, y_pred_rf_count_small))\n",
        "\n",
        "\n",
        "# --- Random Forest with TF-IDF Vectorizer features ---\n",
        "print(\"\\n--- Random Forest with TF-IDF Vectorizer (Small Dataset) ---\")\n",
        "\n",
        "# Create a Random Forest model with 30 estimators\n",
        "rf_tfidf_small = RandomForestClassifier(n_estimators=30, random_state=42, n_jobs=-1)\n",
        "\n",
        "# Train the model\n",
        "rf_tfidf_small.fit(X_train_tfidf_small, y_train_small_tfidf)\n",
        "\n",
        "# Make predictions\n",
        "y_pred_rf_tfidf_small = rf_tfidf_small.predict(X_test_tfidf_small)\n",
        "y_prob_rf_tfidf_small = rf_tfidf_small.predict_proba(X_test_tfidf_small)[:, 1]\n",
        "\n",
        "# Evaluate the model\n",
        "print(\"Random Forest (TF-IDF Vectorizer) Performance:\")\n",
        "print(\"Accuracy:\", accuracy_score(y_test_small_tfidf, y_pred_rf_tfidf_small))\n",
        "print(\"Precision:\", precision_score(y_test_small_tfidf, y_pred_rf_tfidf_small, pos_label='bad'))\n",
        "print(\"Recall:\", recall_score(y_test_small_tfidf, y_pred_rf_tfidf_small, pos_label='bad'))\n",
        "print(\"F1 Score:\", f1_score(y_test_small_tfidf, y_pred_rf_tfidf_small, pos_label='bad'))\n",
        "print(\"ROC AUC Score:\", roc_auc_score(y_test_small_tfidf, y_prob_rf_tfidf_small))\n",
        "\n",
        "# Confusion Matrix\n",
        "cm_rf_tfidf_small = confusion_matrix(y_test_small_tfidf, y_pred_rf_tfidf_small)\n",
        "plt.figure(figsize=(8, 6))\n",
        "sns.heatmap(cm_rf_tfidf_small, annot=True, fmt='d', cmap='Blues', xticklabels=['bad', 'good'], yticklabels=['bad', 'good'])\n",
        "plt.xlabel('Predicted Label')\n",
        "plt.ylabel('True Label')\n",
        "plt.title('Random Forest (TF-IDF Vectorizer) Confusion Matrix (Small Dataset)')\n",
        "plt.show()\n",
        "\n",
        "# Classification Report\n",
        "print(\"\\nClassification Report:\\n\", classification_report(y_test_small_tfidf, y_pred_rf_tfidf_small))\n"
      ],
      "metadata": {
        "colab": {
          "base_uri": "https://localhost:8080/",
          "height": 1000
        },
        "id": "S6u-d9jS8LAK",
        "outputId": "389d479d-fc04-4904-8ddc-3d05383053cb"
      },
      "execution_count": 14,
      "outputs": [
        {
          "output_type": "stream",
          "name": "stdout",
          "text": [
            "\n",
            "--- Random Forest with CountVectorizer (Small Dataset) ---\n",
            "Random Forest (CountVectorizer) Performance:\n",
            "Accuracy: 0.8519159006098116\n",
            "Precision: 0.8657295201163354\n",
            "Recall: 0.5695153061224489\n",
            "F1 Score: 0.6870552029236392\n",
            "ROC AUC Score: 0.8493902050694178\n"
          ]
        },
        {
          "output_type": "display_data",
          "data": {
            "text/plain": [
              "<Figure size 800x600 with 2 Axes>"
            ],
            "image/png": "[encoded data removed]"
          },
          "metadata": {}
        },
        {
          "output_type": "stream",
          "name": "stdout",
          "text": [
            "\n",
            "Classification Report:\n",
            "               precision    recall  f1-score   support\n",
            "\n",
            "         bad       0.87      0.57      0.69      3136\n",
            "        good       0.85      0.96      0.90      7851\n",
            "\n",
            "    accuracy                           0.85     10987\n",
            "   macro avg       0.86      0.77      0.80     10987\n",
            "weighted avg       0.85      0.85      0.84     10987\n",
            "\n",
            "\n",
            "--- Random Forest with TF-IDF Vectorizer (Small Dataset) ---\n",
            "Random Forest (TF-IDF Vectorizer) Performance:\n",
            "Accuracy: 0.847729134431601\n",
            "Precision: 0.8601674052191038\n",
            "Recall: 0.5570790816326531\n",
            "F1 Score: 0.6762144377782079\n",
            "ROC AUC Score: 0.8441615027268072\n"
          ]
        },
        {
          "output_type": "display_data",
          "data": {
            "text/plain": [
              "<Figure size 800x600 with 2 Axes>"
            ],
            "image/png": "[encoded data removed]"
          },
          "metadata": {}
        },
        {
          "output_type": "stream",
          "name": "stdout",
          "text": [
            "\n",
            "Classification Report:\n",
            "               precision    recall  f1-score   support\n",
            "\n",
            "         bad       0.86      0.56      0.68      3136\n",
            "        good       0.84      0.96      0.90      7851\n",
            "\n",
            "    accuracy                           0.85     10987\n",
            "   macro avg       0.85      0.76      0.79     10987\n",
            "weighted avg       0.85      0.85      0.84     10987\n",
            "\n"
          ]
        }
      ]
    }
  ]
}